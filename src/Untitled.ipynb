{
 "cells": [
  {
   "cell_type": "code",
   "execution_count": 98,
   "id": "af03c7f8",
   "metadata": {},
   "outputs": [],
   "source": [
    "command = \"\"\"\n",
    "/home/gridsan/shibal/.conda/envs/TreeEnsembles/bin/python -u main_multitask.py \\\n",
    "--data sf1 --load_directory /home/gridsan/shibal/public-datasets \\\n",
    "--model_type 'regularized' \\\n",
    "--architecture 'shared' \\\n",
    "--epochs 100 \\\n",
    "--missing_percentage 0.5 \\\n",
    "--version 0 \\\n",
    "--loss negative-binomial \\\n",
    "--save_directory ./runs/soft_trees/publicdata |& tee -a ./runs/soft_trees/publicdata/sf1/all-tasks/negative-binomial/0.0/multitaskregularized-missing0.5.txt\n",
    "\"\"\"\n"
   ]
  },
  {
   "cell_type": "code",
   "execution_count": null,
   "id": "59b67410",
   "metadata": {},
   "outputs": [
    {
     "name": "stdout",
     "output_type": "stream",
     "text": [
      "tee: ./runs/soft_trees/publicdata/sf1/all-tasks/negative-binomial/0.0/multitaskregularized-missing0.5.txt: No such file or directory\n",
      "sf1 /home/gridsan/shibal/public-datasets\n",
      "(323, 10) (323, 3)\n",
      "mod_zurich_class         6\n",
      "largest_spot_size        6\n",
      "spot_distribution        4\n",
      "activity                 2\n",
      "evolution                3\n",
      "previous_day_activity    2\n",
      "hist_complex             2\n",
      "become_hist_complex      2\n",
      "area                     2\n",
      "area_largest             2\n",
      "dtype: int64\n",
      "Number of samples in training set:  206 206\n",
      "Number of samples in validation set:  52 52\n",
      "Number of samples in train+validation set:  258 258\n",
      "Number of samples in testing set:  65 65\n",
      "Percentage of missing vals in training covariates:  0.0\n",
      "Percentage of missing vals in validation covariates:  0.0\n",
      "Percentage of missing vals in train+validation covariates:  0.0\n",
      "Percentage of missing vals in testing covariates:  0.0\n",
      "Number of NaNs in tasks responses in training set:  [103 103 103]\n",
      "Number of NaNs in tasks responses in validation set:  [26 26 26]\n",
      "Number of NaNs in tasks responses in train+validation set:  [129 129 129]\n",
      "Number of NaNs in tasks responses in testing set:  [32 32 32]\n",
      "(206, 10) (52, 10) (258, 10) (65, 10)\n",
      "(206, 3) (52, 3) (258, 3) (65, 3)\n",
      "(206,) (52,) (258,) (65,)\n",
      "(206, 3) (52, 3) (258, 3) (65, 3)\n",
      "2022-06-06 00:36:40.228549: W tensorflow/stream_executor/platform/default/dso_loader.cc:64] Could not load dynamic library 'libcuda.so.1'; dlerror: libcuda.so.1: cannot open shared object file: No such file or directory\n",
      "2022-06-06 00:36:40.228574: W tensorflow/stream_executor/cuda/cuda_driver.cc:269] failed call to cuInit: UNKNOWN ERROR (303)\n",
      "2022-06-06 00:36:40.228590: I tensorflow/stream_executor/cuda/cuda_diagnostics.cc:156] kernel driver does not appear to be running on this host (d-19-15-3): /proc/driver/nvidia/version does not exist\n",
      "2022-06-06 00:36:40.228818: I tensorflow/core/platform/cpu_feature_guard.cc:142] This TensorFlow binary is optimized with oneAPI Deep Neural Network Library (oneDNN) to use the following CPU instructions in performance-critical operations:  SSE4.1 SSE4.2 AVX AVX2 AVX512F FMA\n",
      "To enable them in other operations, rebuild TensorFlow with the appropriate compiler flags.\n",
      "2022-06-06 00:36:41.193479: W tensorflow/python/util/util.cc:348] Sets are not currently considered sequences, but this may change in the future, so consider avoiding using them.\n",
      "2022-06-06 00:36:41.243115: I tensorflow/compiler/mlir/mlir_graph_optimization_pass.cc:185] None of the MLIR Optimization Passes are enabled (registered 2)\n",
      "Epoch 1/100\n",
      "4/4 [==============================] - 5s 345ms/step - loss: 3.1139 - task0_loss: 0.2715 - task1_loss: 0.2741 - task2_loss: 0.1908 - val_loss: 1.0093 - val_task0_loss: 0.1297 - val_task1_loss: 0.1789 - val_task2_loss: 0.1259\n",
      "Epoch 2/100\n",
      "4/4 [==============================] - 0s 12ms/step - loss: 0.7368 - task0_loss: 0.1462 - task1_loss: 0.1367 - task2_loss: 0.0719 - val_loss: 0.5659 - val_task0_loss: 0.0805 - val_task1_loss: 0.1523 - val_task2_loss: 0.0923\n",
      "Epoch 3/100\n",
      "4/4 [==============================] - 0s 11ms/step - loss: 0.5496 - task0_loss: 0.1198 - task1_loss: 0.1129 - task2_loss: 0.0344 - val_loss: 0.6559 - val_task0_loss: 0.0650 - val_task1_loss: 0.1505 - val_task2_loss: 0.0855\n",
      "Epoch 4/100\n",
      "4/4 [==============================] - 0s 11ms/step - loss: 0.5778 - task0_loss: 0.1108 - task1_loss: 0.1066 - task2_loss: 0.0188 - val_loss: 0.5558 - val_task0_loss: 0.0571 - val_task1_loss: 0.1523 - val_task2_loss: 0.0863\n",
      "Epoch 5/100\n",
      "4/4 [==============================] - 0s 10ms/step - loss: 0.4384 - task0_loss: 0.1090 - task1_loss: 0.1032 - task2_loss: 0.0111 - val_loss: 0.4131 - val_task0_loss: 0.0533 - val_task1_loss: 0.1534 - val_task2_loss: 0.0895\n",
      "Epoch 6/100\n",
      "4/4 [==============================] - 0s 11ms/step - loss: 0.3091 - task0_loss: 0.1064 - task1_loss: 0.1001 - task2_loss: 0.0076 - val_loss: 0.3588 - val_task0_loss: 0.0523 - val_task1_loss: 0.1516 - val_task2_loss: 0.0932\n",
      "Epoch 7/100\n",
      "4/4 [==============================] - 0s 11ms/step - loss: 0.2661 - task0_loss: 0.1042 - task1_loss: 0.0975 - task2_loss: 0.0055 - val_loss: 0.3541 - val_task0_loss: 0.0510 - val_task1_loss: 0.1504 - val_task2_loss: 0.0964\n",
      "Epoch 8/100\n",
      "4/4 [==============================] - 0s 10ms/step - loss: 0.2576 - task0_loss: 0.1033 - task1_loss: 0.0950 - task2_loss: 0.0043 - val_loss: 0.3427 - val_task0_loss: 0.0505 - val_task1_loss: 0.1465 - val_task2_loss: 0.0992\n",
      "Epoch 9/100\n",
      "4/4 [==============================] - 0s 10ms/step - loss: 0.2386 - task0_loss: 0.1022 - task1_loss: 0.0920 - task2_loss: 0.0036 - val_loss: 0.3236 - val_task0_loss: 0.0505 - val_task1_loss: 0.1445 - val_task2_loss: 0.1017\n",
      "Epoch 10/100\n",
      "4/4 [==============================] - 0s 10ms/step - loss: 0.2166 - task0_loss: 0.1007 - task1_loss: 0.0900 - task2_loss: 0.0031 - val_loss: 0.3099 - val_task0_loss: 0.0507 - val_task1_loss: 0.1402 - val_task2_loss: 0.1037\n",
      "Epoch 11/100\n",
      "4/4 [==============================] - 0s 10ms/step - loss: 0.2037 - task0_loss: 0.0997 - task1_loss: 0.0877 - task2_loss: 0.0027 - val_loss: 0.3052 - val_task0_loss: 0.0509 - val_task1_loss: 0.1377 - val_task2_loss: 0.1056\n",
      "Epoch 12/100\n",
      "4/4 [==============================] - 0s 10ms/step - loss: 0.1979 - task0_loss: 0.0987 - task1_loss: 0.0864 - task2_loss: 0.0024 - val_loss: 0.3024 - val_task0_loss: 0.0514 - val_task1_loss: 0.1353 - val_task2_loss: 0.1070\n",
      "Epoch 13/100\n",
      "4/4 [==============================] - 0s 10ms/step - loss: 0.1924 - task0_loss: 0.0974 - task1_loss: 0.0849 - task2_loss: 0.0022 - val_loss: 0.2992 - val_task0_loss: 0.0521 - val_task1_loss: 0.1329 - val_task2_loss: 0.1083\n",
      "Epoch 14/100\n",
      "4/4 [==============================] - 0s 11ms/step - loss: 0.1885 - task0_loss: 0.0967 - task1_loss: 0.0843 - task2_loss: 0.0020 - val_loss: 0.2974 - val_task0_loss: 0.0535 - val_task1_loss: 0.1307 - val_task2_loss: 0.1093\n",
      "Epoch 15/100\n",
      "1/4 [======>.......................] - ETA: 0s - loss: 0.1889 - task0_loss: 0.1103 - task1_loss: 0.0725 - task2_loss: 0.0021"
     ]
    }
   ],
   "source": [
    "!{command}"
   ]
  },
  {
   "cell_type": "code",
   "execution_count": null,
   "id": "a1499e56",
   "metadata": {},
   "outputs": [],
   "source": []
  }
 ],
 "metadata": {
  "kernelspec": {
   "display_name": "Python [conda env:.conda-TreeEnsembles]",
   "language": "python",
   "name": "conda-env-.conda-TreeEnsembles-py"
  },
  "language_info": {
   "codemirror_mode": {
    "name": "ipython",
    "version": 3
   },
   "file_extension": ".py",
   "mimetype": "text/x-python",
   "name": "python",
   "nbconvert_exporter": "python",
   "pygments_lexer": "ipython3",
   "version": "3.8.12"
  }
 },
 "nbformat": 4,
 "nbformat_minor": 5
}
